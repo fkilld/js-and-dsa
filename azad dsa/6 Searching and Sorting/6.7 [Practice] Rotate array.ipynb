{
 "cells": [
  {
   "cell_type": "code",
   "execution_count": 1,
   "metadata": {},
   "outputs": [
    {
     "name": "stdout",
     "output_type": "stream",
     "text": [
      "7\n",
      "1 2 3 4 5 6 7\n",
      "2\n",
      "3 4 5 6 7 1 2\n"
     ]
    }
   ],
   "source": [
    "def rotate(nums, k):\n",
    "    size = len(nums)\n",
    "    \n",
    "    if k > size:\n",
    "        k = k % size\n",
    "    \n",
    "    def reverse(nums, left, right):\n",
    "        while left < right:\n",
    "            nums[left], nums[right] = nums[right], nums[left]\n",
    "            left += 1\n",
    "            right -= 1\n",
    "    \n",
    "    reverse(nums, 0, size - 1)\n",
    "    reverse(nums, 0, k - 1)\n",
    "    reverse(nums, k, size - 1)\n",
    "    return nums\n",
    "\n",
    "# Main\n",
    "n = int(input())\n",
    "arr = list(int(i) for i in input().strip().split(' '))\n",
    "d = int(input())\n",
    "rotated_array = rotate(arr, d)\n",
    "print(*rotated_array)\n"
   ]
  }
 ],
 "metadata": {
  "kernelspec": {
   "display_name": "Python 3",
   "language": "python",
   "name": "python3"
  },
  "language_info": {
   "codemirror_mode": {
    "name": "ipython",
    "version": 3
   },
   "file_extension": ".py",
   "mimetype": "text/x-python",
   "name": "python",
   "nbconvert_exporter": "python",
   "pygments_lexer": "ipython3",
   "version": "3.7.3"
  }
 },
 "nbformat": 4,
 "nbformat_minor": 2
}
