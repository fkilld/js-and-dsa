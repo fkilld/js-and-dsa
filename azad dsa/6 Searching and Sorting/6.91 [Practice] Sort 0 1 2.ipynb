{
 "cells": [
  {
   "cell_type": "code",
   "execution_count": 1,
   "metadata": {},
   "outputs": [
    {
     "name": "stdout",
     "output_type": "stream",
     "text": [
      "7\n",
      "0 1 2 0 2 0 1\n",
      "0 0 0 1 1 2 2 "
     ]
    }
   ],
   "source": [
    "## Read input as specified in the question.\n",
    "## Print output as specified in the question.\n",
    "n = int(input())\n",
    "list = [int(x) for x in input().split()[:n]]\n",
    "count0 = 0\n",
    "count1 = 0\n",
    "count2 = 0\n",
    "for i in list:\n",
    "    if i == 0:\n",
    "        count0 += 1\n",
    "    elif i == 1:\n",
    "        count1 += 1\n",
    "    else:\n",
    "        count2 += 1\n",
    "list = []\n",
    "for i in range(count0):\n",
    "    list.append(0)\n",
    "for i in range(count1):\n",
    "    list.append(1)\n",
    "for i in range(count2):\n",
    "    list.append(2)\n",
    "\n",
    "for ele in list:\n",
    "    print(ele, end=' ')"
   ]
  },
  {
   "cell_type": "code",
   "execution_count": 2,
   "metadata": {},
   "outputs": [],
   "source": [
    "class Solution(object):\n",
    "    def sortColors(self, nums):\n",
    "        \"\"\"\n",
    "        :type nums: List[int]\n",
    "        :rtype: None Do not return anything, modify nums in-place instead.\n",
    "        \"\"\"\n",
    "        for i in range(len(nums)):\n",
    "            for j in range(i + 1, len(nums)):\n",
    "                if nums[i] > nums[j]:\n",
    "                    nums[i], nums[j] = nums[j], nums[i]\n",
    "        return nums\n",
    "\n",
    "# Testing the function\n",
    "n = int(input())\n",
    "nums = [int(x) for x in input().split()[:n]]\n",
    "sol = Solution()\n",
    "sorted_nums = sol.sortColors(nums)\n",
    "print(*sorted_nums)\n"
   ]
  }
 ],
 "metadata": {
  "kernelspec": {
   "display_name": "Python 3",
   "language": "python",
   "name": "python3"
  },
  "language_info": {
   "codemirror_mode": {
    "name": "ipython",
    "version": 3
   },
   "file_extension": ".py",
   "mimetype": "text/x-python",
   "name": "python",
   "nbconvert_exporter": "python",
   "pygments_lexer": "ipython3",
   "version": "3.7.3"
  }
 },
 "nbformat": 4,
 "nbformat_minor": 2
}
